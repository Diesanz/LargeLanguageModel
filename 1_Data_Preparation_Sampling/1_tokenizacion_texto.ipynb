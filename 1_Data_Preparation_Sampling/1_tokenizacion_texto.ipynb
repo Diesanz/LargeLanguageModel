{
 "cells": [
  {
   "cell_type": "code",
   "execution_count": null,
   "id": "1c28fd33",
   "metadata": {},
   "outputs": [],
   "source": [
    "#División de texto de entrada en tokens individuales.\n",
    "#Estos  tokens  son  palabras  \n",
    "#individuales  o  caracteres  especiales,  incluyendo  signos  de  puntuación"
   ]
  },
  {
   "cell_type": "code",
   "execution_count": 26,
   "id": "f44fbd09",
   "metadata": {},
   "outputs": [
    {
     "name": "stdout",
     "output_type": "stream",
     "text": [
      "Total de carcateres: 20483\n",
      "Primeras 99 palabras: I HAD always thought Jack Gisburn rather a cheap genius--though a good fellow enough--so it was no \n"
     ]
    }
   ],
   "source": [
    "#Tokenizer texto de  Edith  Wharton  titulado\n",
    "import torch\n",
    "with open(\"../txt/The_Verdict.txt\", \"r\", encoding=\"utf-8\") as f:\n",
    "    text = f.read()\n",
    "print(f'Total de carcateres: {len(text)}')\n",
    "print(f'Primeras 99 palabras: {text[:99]}')"
   ]
  },
  {
   "cell_type": "code",
   "execution_count": null,
   "id": "f1270470",
   "metadata": {},
   "outputs": [],
   "source": []
  }
 ],
 "metadata": {
  "kernelspec": {
   "display_name": "llm_env",
   "language": "python",
   "name": "python3"
  },
  "language_info": {
   "codemirror_mode": {
    "name": "ipython",
    "version": 3
   },
   "file_extension": ".py",
   "mimetype": "text/x-python",
   "name": "python",
   "nbconvert_exporter": "python",
   "pygments_lexer": "ipython3",
   "version": "3.10.18"
  }
 },
 "nbformat": 4,
 "nbformat_minor": 5
}
