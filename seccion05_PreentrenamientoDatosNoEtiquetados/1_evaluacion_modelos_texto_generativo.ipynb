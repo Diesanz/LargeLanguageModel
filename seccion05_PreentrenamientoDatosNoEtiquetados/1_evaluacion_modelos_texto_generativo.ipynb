{
 "cells": [
  {
   "cell_type": "markdown",
   "id": "4b7ee1be",
   "metadata": {},
   "source": [
    "# Evaluación de modelos de texto generativo\n",
    "\n",
    "Se comenzará la sección configurando el LLM para la generación de texto a partir del código implementado en la sección 3.\n",
    "\n",
    "![Texto alternativo](./imgs/5.2.png)\n",
    "\n",
    "La  siguiente  subsección  resume  la  generación  de  texto  que se configuró al final de la sección 3, antes  de  sumergirnos  en  la  evaluación  del  texto  y  el  cálculo  \n",
    "de  las  pérdidas  de  entrenamiento  y  validación  en  las  subsecciones  posteriores."
   ]
  },
  {
   "cell_type": "markdown",
   "id": "37007970",
   "metadata": {},
   "source": [
    "## Uso de GPT para generar texto\n",
    "\n",
    "En esta subsección se configura el LLm y se recapitula brevemente el proceso de generación de texto"
   ]
  },
  {
   "cell_type": "code",
   "execution_count": null,
   "id": "2d306ee9",
   "metadata": {},
   "outputs": [
    {
     "ename": "ModuleNotFoundError",
     "evalue": "No module named 'transformeBlock'",
     "output_type": "error",
     "traceback": [
      "\u001b[1;31m---------------------------------------------------------------------------\u001b[0m",
      "\u001b[1;31mModuleNotFoundError\u001b[0m                       Traceback (most recent call last)",
      "Cell \u001b[1;32mIn[40], line 1\u001b[0m\n\u001b[1;32m----> 1\u001b[0m \u001b[38;5;28;01mfrom\u001b[39;00m\u001b[38;5;250m \u001b[39m\u001b[38;5;21;01mseccion03_ImplementacionGPT\u001b[39;00m\u001b[38;5;250m \u001b[39m\u001b[38;5;28;01mimport\u001b[39;00m gptModel\n",
      "File \u001b[1;32mc:\\Users\\diego\\Desktop\\Informatica\\Proyectos-Propios\\Importantes\\LLM\\seccion03_ImplementacionGPT\\gptModel.py:1\u001b[0m\n\u001b[1;32m----> 1\u001b[0m \u001b[38;5;28;01mfrom\u001b[39;00m\u001b[38;5;250m \u001b[39m\u001b[38;5;21;01mtransformeBlock\u001b[39;00m\u001b[38;5;250m \u001b[39m\u001b[38;5;28;01mimport\u001b[39;00m TransformerBlock\n\u001b[0;32m      2\u001b[0m \u001b[38;5;28;01mfrom\u001b[39;00m\u001b[38;5;250m \u001b[39m\u001b[38;5;21;01mlayerNorm\u001b[39;00m\u001b[38;5;250m \u001b[39m\u001b[38;5;28;01mimport\u001b[39;00m LayerNorm\n\u001b[0;32m      3\u001b[0m \u001b[38;5;28;01mimport\u001b[39;00m\u001b[38;5;250m \u001b[39m\u001b[38;5;21;01mtorch\u001b[39;00m\n",
      "\u001b[1;31mModuleNotFoundError\u001b[0m: No module named 'transformeBlock'"
     ]
    }
   ],
   "source": [
    "from seccion04_ImplementacionGPTGeneracionTexto import gptModel"
   ]
  }
 ],
 "metadata": {
  "kernelspec": {
   "display_name": "llm_env",
   "language": "python",
   "name": "python3"
  },
  "language_info": {
   "codemirror_mode": {
    "name": "ipython",
    "version": 3
   },
   "file_extension": ".py",
   "mimetype": "text/x-python",
   "name": "python",
   "nbconvert_exporter": "python",
   "pygments_lexer": "ipython3",
   "version": "3.10.18"
  }
 },
 "nbformat": 4,
 "nbformat_minor": 5
}
