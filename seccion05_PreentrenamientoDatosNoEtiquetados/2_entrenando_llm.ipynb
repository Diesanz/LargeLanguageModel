{
 "cells": [
  {
   "cell_type": "markdown",
   "id": "e41b46e8",
   "metadata": {},
   "source": [
    "# Entrenamiento de un LLM\n",
    "\n",
    "En esta sección se implementará el código necesario para entrenar el modelo GPT.\n",
    "Para ello se construirá un bucle de entrenamiento sencillo, para mantener código conciso y legible.\n",
    "\n",
    "![Texto alternativo](./imgs/5.11.png)\n",
    "\n",
    "Un  bucle  de  entrenamiento  típico  para  el  entrenamiento  de  redes  neuronales  profundas  en  PyTorch  consta  de  varios  pasos  que  iteran  sobre  los  lotes  del  conjunto  de  entrenamiento  durante  varias  épocas.  En  cada  bucle,  se calcula  la  pérdida  de  cada  lote  del  conjunto  de  entrenamiento  para  determinar  los  gradientes  de  pérdida,  que  utilizamos  para  actualizar  los  pesos  del  modelo  de  forma  que la pédida del conjunto de entreneamiento se minimiza.\n",
    "\n",
    "La figura muestra  un  flujo  de  trabajo  típico  de  entrenamiento  de  redes  neuronales  con  PyTorch,  el  cual  utilizamos  para  entrenar  un  LLM.  Describe  ocho  pasos,  comenzando  con  la  iteración  sobre  cada  época,  el  procesamiento  de  lotes,  el  restablecimiento  y  cálculo  de  gradientes,  la  actualización  de  pesos  y,  finalmente,  con  la  monitorización  de  pasos  como  la  impresión  de  pérdidas  y  la  generación  de  muestras  de  texto.  "
   ]
  },
  {
   "cell_type": "code",
   "execution_count": 24,
   "id": "00a860e8",
   "metadata": {},
   "outputs": [],
   "source": [
    "import sys\n",
    "import os\n",
    "\n",
    "# Obtiene la ruta de la carpeta principal del proyecto (subiendo un nivel desde seccion05)\n",
    "ruta_proyecto_principal = os.path.abspath(os.path.join(os.getcwd(), '..'))\n",
    "\n",
    "# Añade esta ruta a la lista de lugares donde Python busca módulos\n",
    "if ruta_proyecto_principal not in sys.path:\n",
    "    sys.path.append(ruta_proyecto_principal)"
   ]
  },
  {
   "cell_type": "code",
   "execution_count": 25,
   "id": "c7f6aaa4",
   "metadata": {},
   "outputs": [],
   "source": [
    "import torch\n",
    "from calcTextValLoss import calc_loss_batch\n",
    "from calcTextValLoss import calc_loss_loader\n",
    "\n",
    "def train_model_simple(model, train_loader, val_loader, optimizer, device, num_epochs, eval_freq, eval_iter, start_context, tokenizer):\n",
    "\n",
    "    train_losses, val_losses, track_tokens_seen = [], [], [] #inicializar listas para rastrear pérdidas y tokens vistos\n",
    "    tokens_seen, global_step = 0, -1\n",
    "\n",
    "    for epoch in range(num_epochs): #inicializar el ciclo de entrenamiento principal\n",
    "        model.train()\n",
    "        \n",
    "        for input_batch, target_batch in train_loader:\n",
    "            #input_batch, target_batch = input_batch.to(device), target_batch.to(device)\n",
    "            optimizer.zero_grad() #restablecer los gradientes de pérdida de la iteración del lote anterior\n",
    "            loss = calc_loss_batch(input_batch, target_batch, model, device)\n",
    "            loss.backward() #calcular los gradientes de pérdida\n",
    "            optimizer.step() #actualizar los pesos usando descenso de gradiente\n",
    "            tokens_seen += input_batch.numel()\n",
    "            global_step += 1\n",
    "\n",
    "            if global_step % eval_freq == 0:                     \n",
    "                train_loss, val_loss = evaluate_model(model, train_loader, val_loader, device, eval_iter)\n",
    "                train_losses.append(train_loss)\n",
    "                val_losses.append(val_loss)\n",
    "                track_tokens_seen.append(tokens_seen)\n",
    "                print(f\"Ep {epoch+1} (Step {global_step:06d}): \"\n",
    "                        f\"Train loss {train_loss:.3f}, Val loss {val_loss:.3f}\")\n",
    "        generate_and_print_sample(                                #imprimir ejemplo de texto\n",
    "            model, tokenizer, device, start_context\n",
    "        )\n",
    "    return train_losses, val_losses, track_tokens_seen\n",
    "                \n"
   ]
  },
  {
   "cell_type": "markdown",
   "id": "bff8e5d7",
   "metadata": {},
   "source": [
    "La  función  evaluation_model  calcula  la  pérdida  en  el  conjunto  de  entrenamiento  y  validación  mientras  garantiza  que  el  modelo  esté  en  modo  de  evaluación  con  seguimiento  de  gradiente  y  abandono  deshabilitados  al  calcular  la  pérdida  en  los  conjuntos  de  entrenamiento  y  validación."
   ]
  },
  {
   "cell_type": "code",
   "execution_count": 26,
   "id": "edfeb0ad",
   "metadata": {},
   "outputs": [],
   "source": [
    "def evaluate_model(model, train_loader, val_loader, device, eval_iter):\n",
    "    model.eval()\n",
    "    with torch.no_grad():\n",
    "        train_loss = calc_loss_loader(train_loader, model, device, num_batches=eval_iter)\n",
    "        val_loss = calc_loss_loader(val_loader, model, device, num_batches=eval_iter)\n",
    "    model.train()\n",
    "    return train_loss, val_loss"
   ]
  },
  {
   "cell_type": "markdown",
   "id": "64936272",
   "metadata": {},
   "source": [
    "Similar  a  \"evaluation_model\",  la  función  \"generate_and_print_sample\"  es  una  función  práctica  que  utilizamos  para  monitorizar  si  el  modelo  mejora  durante  el  entrenamiento.  En  particular,  la  función  \"generate_and_print_sample\"  toma  un  fragmento  de  texto  (contexto_inicio)  como  entrada,  lo  convierte  en  identificadores  de  token  y  lo  envía  al  LLM  para  generar  una  muestra  de  texto  mediante  la  función  \"generar_texto_simple\"  que  se utilizó  anteriormente:"
   ]
  },
  {
   "cell_type": "code",
   "execution_count": 27,
   "id": "8d1a4071",
   "metadata": {},
   "outputs": [],
   "source": [
    "from seccion04_ImplementacionGPTGeneracionTexto.generateTextSimple import generate_text_simple\n",
    "import tiktoken\n",
    "\n",
    "def text_to_token_ids(text, tokenizer):\n",
    "    encoded = tokenizer.encode(text, allowed_special={'<|endoftext|>'})\n",
    "    encoded_tensor = torch.tensor(encoded).unsqueeze(0) \n",
    "    return encoded_tensor\n",
    "\n",
    "def token_ids_to_text(token_ids, tokenizer):\n",
    "    flat = token_ids.squeeze(0)\n",
    "    return tokenizer.decode(flat.tolist())\n",
    "\n",
    "def generate_and_print_sample(model, tokenizer, device, start_context):\n",
    "    model.eval()\n",
    "    context_size = model.pos_emb.weight.shape[0]\n",
    "    encoded = text_to_token_ids(start_context, tokenizer).to(device)\n",
    "    with torch.no_grad():\n",
    "        token_ids = generate_text_simple(\n",
    "            model=model, idx=encoded,\n",
    "            max_new_tokens=50, context_size=context_size\n",
    "        )\n",
    "        decoded_text = token_ids_to_text(token_ids, tokenizer)\n",
    "        print(decoded_text.replace(\"\\n\", \" \"))  \n",
    "    model.train()\n",
    "\n"
   ]
  },
  {
   "cell_type": "markdown",
   "id": "f542feb2",
   "metadata": {},
   "source": [
    "Mientras  que  la  función  evaluation_model  da  una  estimación  numérica  del  progreso  de  entrenamiento  del  modelo,  esta  función  de  texto  generate_and_print_sample  proporciona  un  ejemplo  de  texto  concreto  generado  por  el  modelo  para  juzgar  sus  capacidades  durante  el  entrenamiento."
   ]
  },
  {
   "cell_type": "markdown",
   "id": "4e33388d",
   "metadata": {},
   "source": [
    "### ADAMW\n",
    "\n",
    "Los  optimizadores  Adam  son  una  opción  popular  para  entrenar  redes  neuronales  profundas.  Sin  embargo,  en el ciclo  de  entrenamiento, se opta  por  el  optimizador  AdamW .  AdamW  es  una  variante  de  Adam  que  mejora  el  enfoque  de  decaimiento  de  pesos,  cuyo  objetivo  es  minimizar  la  complejidad  del  modelo  y  evitar  el  sobreajuste  al  penalizar  pesos  mayores.  Este  ajuste  permite  a  AdamW  lograr  una  regularización  más  efectiva  y  una  mejor  generalización,  por  lo  que  se  utiliza  \n",
    "frecuentemente  en  el  entrenamiento  de  LLM."
   ]
  },
  {
   "cell_type": "code",
   "execution_count": 28,
   "id": "7b2b920f",
   "metadata": {},
   "outputs": [
    {
     "name": "stdout",
     "output_type": "stream",
     "text": [
      "Characters: 20483\n",
      "Tokens: 5147\n"
     ]
    }
   ],
   "source": [
    "file_path = \"../txt/The_Verdict.txt\"\n",
    "with open(file_path, \"r\", encoding=\"utf-8\") as f:\n",
    "    text_data = f.read()\n",
    "\n",
    "tokenizer = tiktoken.get_encoding(\"gpt2\")\n",
    "\n",
    "total_characters = len(text_data)\n",
    "total_tokens = len(tokenizer.encode(text_data))\n",
    "print(\"Characters:\", total_characters)\n",
    "print(\"Tokens:\", total_tokens)\n",
    "\n",
    "train_ratio = 0.90\n",
    "split_idx = int(train_ratio * len(text_data))\n",
    "train_data = text_data[: split_idx]\n",
    "val_data = text_data[split_idx :]"
   ]
  },
  {
   "cell_type": "code",
   "execution_count": 29,
   "id": "d6c2450b",
   "metadata": {},
   "outputs": [
    {
     "name": "stdout",
     "output_type": "stream",
     "text": [
      "Ep 1 (Step 000000): Train loss 10.063, Val loss 9.945\n",
      "Ep 1 (Step 000005): Train loss 8.156, Val loss 8.334\n",
      "Every effort moves you,,,,,,,,,,,,.                                     \n",
      "Ep 2 (Step 000010): Train loss 6.556, Val loss 7.037\n",
      "Ep 2 (Step 000015): Train loss 5.927, Val loss 6.580\n",
      "Every effort moves you, and,, and,,,,,,, and,.                                   \n",
      "Ep 3 (Step 000020): Train loss 5.824, Val loss 6.464\n",
      "Ep 3 (Step 000025): Train loss 5.381, Val loss 6.365\n",
      "Every effort moves you, and to the to the of the to the, and I had. Gis, and, and, and, and, and, and I had, and, and, and, and, and, and, and, and, and,\n",
      "Ep 4 (Step 000030): Train loss 4.598, Val loss 6.250\n",
      "Ep 4 (Step 000035): Train loss 5.028, Val loss 6.267\n",
      "Every effort moves you of the picture.      \"I                \"I\"I the picture\"I had the picture\"I the picture and I had been the picture of\n",
      "Ep 5 (Step 000040): Train loss 4.076, Val loss 6.136\n",
      "Every effort moves you know the                          \"Oh, and the fact a little the latter the honour his pictures--and it's--I he had\n",
      "Ep 6 (Step 000045): Train loss 4.005, Val loss 6.138\n",
      "Ep 6 (Step 000050): Train loss 2.871, Val loss 6.130\n",
      "Every effort moves you know the fact, and pushed one of the to the fact of the last word.        \"Oh, and I was his pictures--I had the donkey. I had the donkey. \"I looked. \n",
      "Ep 7 (Step 000055): Train loss 3.065, Val loss 6.149\n",
      "Ep 7 (Step 000060): Train loss 2.057, Val loss 6.116\n",
      "Every effort moves you know,\" was not that the picture.  I-chairs forward. \"There: \"Yes, and!  \"I didn't say, and I was a little. \"I he was his pictures--because he was his pictures\n",
      "Ep 8 (Step 000065): Train loss 1.958, Val loss 6.159\n",
      "Ep 8 (Step 000070): Train loss 1.339, Val loss 6.268\n",
      "Every effort moves you?\"  \"Yes--quite insensible to the fact with the last word. Gisburn's an awful simpleton, and Mrs. I remember getting off a prod, as once one had been the donkey. \"There were days when I\n",
      "Ep 9 (Step 000075): Train loss 1.221, Val loss 6.245\n",
      "Ep 9 (Step 000080): Train loss 0.819, Val loss 6.264\n",
      "Every effort moves you?\"  \"Yes--quite insensible to the irony. She wanted him vindicated--and by me!\"  He laughed again, and threw back his head to look up at the honour being _mine_--because he's. The\n",
      "Ep 10 (Step 000085): Train loss 0.574, Val loss 6.377\n",
      "Every effort moves you?\"  \"Yes--quite insensible to the irony. She wanted him vindicated--and by me!\"  He laughed again, and threw back his head to look up at the sketch of the donkey. \"There were days when I\n"
     ]
    }
   ],
   "source": [
    "from seccion04_ImplementacionGPTGeneracionTexto.gptModel import GPTModel\n",
    "from seccion04_ImplementacionGPTGeneracionTexto.gptConfig124M import GPT_CONFIG_124M\n",
    "from seccion02_TrabajarDatosTexto.dataloader_v1 import create_dataloader_v1\n",
    "GPT_CONFIG_124M[\"context_length\"] = 256\n",
    "\n",
    "\n",
    "torch.manual_seed(123)\n",
    "train_loader = create_dataloader_v1(\n",
    "    train_data,\n",
    "    batch_size=2,\n",
    "    max_length=GPT_CONFIG_124M[\"context_length\"],\n",
    "    stride=GPT_CONFIG_124M[\"context_length\"],\n",
    "    drop_last=True,\n",
    "    shuffle=True,\n",
    "    num_workers=0\n",
    ")\n",
    "val_loader = create_dataloader_v1(\n",
    "    val_data,\n",
    "    batch_size=2,\n",
    "    max_length=GPT_CONFIG_124M[\"context_length\"],\n",
    "    stride=GPT_CONFIG_124M[\"context_length\"],\n",
    "    drop_last=False,\n",
    "    shuffle=False,\n",
    "    num_workers=0\n",
    ")\n",
    "\n",
    "device = torch.device('cuda' if torch.cuda.is_available() else 'cpu')\n",
    "tokenizer = tiktoken.get_encoding(\"gpt2\")\n",
    "\n",
    "torch.manual_seed(123)\n",
    "model = GPTModel(GPT_CONFIG_124M)\n",
    "model.to(device)\n",
    "optimizer = torch.optim.AdamW(model.parameters(), lr=0.0004, weight_decay=0.1) #el método parameters() devuelve todos los pesos entrenables del modelo\n",
    "num_epochs = 10\n",
    "train_losses, val_losses, tokens_seen = train_model_simple(\n",
    "    model, train_loader, val_loader, optimizer, device,\n",
    "    num_epochs=num_epochs, eval_freq=5, eval_iter=1,\n",
    "    start_context=\"Every effort moves you\", tokenizer=tokenizer\n",
    ")"
   ]
  },
  {
   "cell_type": "markdown",
   "id": "e024a93f",
   "metadata": {},
   "source": [
    "Como  se puede observar,  según  los  resultados  impresos  durante  el  entrenamiento,  la  pérdida  de  entrenamiento  mejora  drásticamente,  comenzando  con  un  valor  de  9,558  y  convergiendo  a  0,762.  Las  habilidades  lingüísticas  del  modelo  han  mejorado  considerablemente.  Al  principio,  el  modelo  solo  puede  añadir  comas  al  contexto  inicial  (\"Every  strive  moves  you,,,,,,,,,,,,\")  o  repetir  la  palabra  \"and\".  Al  final  del  entrenamiento,  puede  generar  texto  gramaticalmente  correcto.\n",
    "\n",
    "Al  igual  que  con  la  pérdida  del  conjunto  de  entrenamiento, se observa que  la  pérdida  de  validación  comienza  alta y  disminuye  durante  el  entrenamiento.  Sin  embargo,  nunca  llega  a  ser  tan  pequeña  como  la  pérdida  del  conjunto  de  entrenamiento. \n",
    "\n",
    "Gráfico  simple  que  muestre  las  pérdidas  de  los  conjuntos  de  entrenamiento  y  validación  una  al  lado  de  la  otra"
   ]
  },
  {
   "cell_type": "code",
   "execution_count": null,
   "id": "25cb4f2c",
   "metadata": {},
   "outputs": [
    {
     "data": {
      "image/png": "[encoded data removed]",
      "text/plain": [
       "<Figure size 500x300 with 2 Axes>"
      ]
     },
     "metadata": {},
     "output_type": "display_data"
    }
   ],
   "source": [
    "import matplotlib.pyplot as plt\n",
    "def plot_losses(epochs_seen, tokens_seen, train_losses, val_losses):\n",
    "    fig, ax1 = plt.subplots(figsize=(5, 3))\n",
    "    ax1.plot(epochs_seen, train_losses, label=\"Training loss\")\n",
    "    ax1.plot(epochs_seen, val_losses, linestyle=\"-.\", label=\"Validation loss\")\n",
    "    ax1.set_xlabel(\"Epochs\")\n",
    "    ax1.set_ylabel(\"Loss\")\n",
    "    ax1.legend(loc=\"upper right\")\n",
    "    ax2 = ax1.twiny()                                             \n",
    "    ax2.plot(tokens_seen, train_losses, alpha=0)    #gráfico invisible apra alinear marcas              \n",
    "    ax2.set_xlabel(\"Tokens seen\")\n",
    "    fig.tight_layout()\n",
    "    plt.show()\n",
    "epochs_tensor = torch.linspace(0, num_epochs, len(train_losses))\n",
    "plot_losses(epochs_tensor, tokens_seen, train_losses, val_losses)"
   ]
  },
  {
   "cell_type": "markdown",
   "id": "8a28911d",
   "metadata": {},
   "source": [
    "Tanto  las  pérdidas  de  entrenamiento  como  las  de  validación  comienzan  a  mejorar  en  la  primera  época.  Sin  embargo,  las  pérdidas  comienzan  a  divergir  después  de  la  segunda  época.  Esta  divergencia,  y  el  hecho  de  que  la  pérdida  de  validación  sea  mucho  mayor  que  la  de  entrenamiento,  indican  que  el  modelo  se  está  sobreajustando  a  los  datos  de  entrenamiento.  El modelo memoriza los datos de entrenamiento.\n",
    "\n",
    "Esta  memorización  es  previsible,  ya  que  se está trabajando  con  un  conjunto  de  datos  de  entrenamiento  muy  pequeño  y se entrena el  modelo  para  múltiples  épocas.  Normalmente,  es  común  entrenar  un  modelo  con  un  conjunto  de  datos  mucho  mayor  para  una  sola  época.\n",
    "\n",
    "![Texto alternativo](./imgs/5.12.png)\n",
    "\n",
    "La  siguiente  sección  cubrirá  las  estrategias  de  generación  de  texto  para  LLM  para  reducir  la  memorización  de  datos  de  entrenamiento  y  aumentar  la  originalidad  del  texto  generado  por  LLM .\n",
    "\n",
    "[Estrategias de decodificación para controlar la aleatoriedad](./3_estrategias_decodificacion_control_aleatoriedad.ipynb)"
   ]
  }
 ],
 "metadata": {
  "kernelspec": {
   "display_name": "llm_env",
   "language": "python",
   "name": "python3"
  },
  "language_info": {
   "codemirror_mode": {
    "name": "ipython",
    "version": 3
   },
   "file_extension": ".py",
   "mimetype": "text/x-python",
   "name": "python",
   "nbconvert_exporter": "python",
   "pygments_lexer": "ipython3",
   "version": "3.10.18"
  }
 },
 "nbformat": 4,
 "nbformat_minor": 5
}
