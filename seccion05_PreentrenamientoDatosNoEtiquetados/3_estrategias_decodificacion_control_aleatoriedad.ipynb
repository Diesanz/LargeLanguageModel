{
 "cells": [
  {
   "cell_type": "markdown",
   "id": "765bc53f",
   "metadata": {},
   "source": [
    "# Estrategias de decodificación para controlar la aleatoriedad\n",
    "\n",
    "En esta sección se abordarán las   estrategias  de  generación  de  texto  (también  llamadas  estrategias  de  decodificación)  para  \n",
    "generar  texto  más  original.  \n",
    "\n",
    "- Primero,  revisar  brevemente  la  función  generate_text_simple  del ña sección anterior,  que se usa   dentro  de  generate_and_print_sample \n",
    "- Después,  se abordarán  dos  técnicas:   \n",
    "    - escalado  de  temperatura  \n",
    "    - el  muestreo  topk,  para  mejorar  esta  función\n",
    "\n",
    "Ahora se volverá a cargar el modelo y entrenar."
   ]
  },
  {
   "cell_type": "code",
   "execution_count": 2,
   "id": "23676cdb",
   "metadata": {},
   "outputs": [],
   "source": [
    "import sys\n",
    "import os\n",
    "\n",
    "# Obtiene la ruta de la carpeta principal del proyecto (subiendo un nivel desde seccion05)\n",
    "ruta_proyecto_principal = os.path.abspath(os.path.join(os.getcwd(), '..'))\n",
    "\n",
    "# Añade esta ruta a la lista de lugares donde Python busca módulos\n",
    "if ruta_proyecto_principal not in sys.path:\n",
    "    sys.path.append(ruta_proyecto_principal)"
   ]
  },
  {
   "cell_type": "code",
   "execution_count": 3,
   "id": "ac0ffb0d",
   "metadata": {},
   "outputs": [
    {
     "name": "stdout",
     "output_type": "stream",
     "text": [
      "Ep 1 (Step 000000): Train loss 10.063, Val loss 9.945\n",
      "Ep 1 (Step 000005): Train loss 8.156, Val loss 8.334\n",
      "Every effort moves you,,,,,,,,,,,,.                                     \n",
      "Ep 2 (Step 000010): Train loss 6.556, Val loss 7.037\n",
      "Ep 2 (Step 000015): Train loss 5.927, Val loss 6.580\n",
      "Every effort moves you, and,, and,,,,,,, and,.                                   \n",
      "Ep 3 (Step 000020): Train loss 5.824, Val loss 6.464\n",
      "Ep 3 (Step 000025): Train loss 5.381, Val loss 6.365\n",
      "Every effort moves you, and to the to the of the to the, and I had. Gis, and, and, and, and, and, and I had, and, and, and, and, and, and, and, and, and,\n",
      "Ep 4 (Step 000030): Train loss 4.598, Val loss 6.250\n",
      "Ep 4 (Step 000035): Train loss 5.028, Val loss 6.267\n",
      "Every effort moves you of the picture.      \"I                \"I\"I the picture\"I had the picture\"I the picture and I had been the picture of\n",
      "Ep 5 (Step 000040): Train loss 4.076, Val loss 6.136\n",
      "Every effort moves you know the                          \"Oh, and the fact a little the latter the honour his pictures--and it's--I he had\n",
      "Ep 6 (Step 000045): Train loss 4.005, Val loss 6.138\n",
      "Ep 6 (Step 000050): Train loss 2.871, Val loss 6.130\n",
      "Every effort moves you know the fact, and pushed one of the to the fact of the last word.        \"Oh, and I was his pictures--I had the donkey. I had the donkey. \"I looked. \n",
      "Ep 7 (Step 000055): Train loss 3.065, Val loss 6.149\n",
      "Ep 7 (Step 000060): Train loss 2.057, Val loss 6.116\n",
      "Every effort moves you know,\" was not that the picture.  I-chairs forward. \"There: \"Yes, and!  \"I didn't say, and I was a little. \"I he was his pictures--because he was his pictures\n",
      "Ep 8 (Step 000065): Train loss 1.958, Val loss 6.159\n",
      "Ep 8 (Step 000070): Train loss 1.339, Val loss 6.268\n",
      "Every effort moves you?\"  \"Yes--quite insensible to the fact with the last word. Gisburn's an awful simpleton, and Mrs. I remember getting off a prod, as once one had been the donkey. \"There were days when I\n",
      "Ep 9 (Step 000075): Train loss 1.221, Val loss 6.245\n",
      "Ep 9 (Step 000080): Train loss 0.819, Val loss 6.264\n",
      "Every effort moves you?\"  \"Yes--quite insensible to the irony. She wanted him vindicated--and by me!\"  He laughed again, and threw back his head to look up at the honour being _mine_--because he's. The\n",
      "Ep 10 (Step 000085): Train loss 0.574, Val loss 6.377\n",
      "Every effort moves you?\"  \"Yes--quite insensible to the irony. She wanted him vindicated--and by me!\"  He laughed again, and threw back his head to look up at the sketch of the donkey. \"There were days when I\n"
     ]
    }
   ],
   "source": [
    "import torch\n",
    "import torch.nn as nn\n",
    "import tiktoken\n",
    "from seccion04_ImplementacionGPTGeneracionTexto.gptModel import GPTModel\n",
    "from seccion04_ImplementacionGPTGeneracionTexto.gptConfig124M import GPT_CONFIG_124M\n",
    "from seccion02_TrabajarDatosTexto.dataloader_v1 import create_dataloader_v1\n",
    "from trainModelSimple import train_model_simple\n",
    "\n",
    "GPT_CONFIG_124M[\"context_length\"] = 256\n",
    "\n",
    "file_path = \"../txt/The_Verdict.txt\"\n",
    "with open(file_path, \"r\", encoding=\"utf-8\") as f:\n",
    "    text_data = f.read()\n",
    "\n",
    "tokenizer = tiktoken.get_encoding(\"gpt2\")\n",
    "\n",
    "train_ratio = 0.90\n",
    "split_idx = int(train_ratio * len(text_data))\n",
    "train_data = text_data[: split_idx]\n",
    "val_data = text_data[split_idx :]\n",
    "\n",
    "torch.manual_seed(123)\n",
    "train_loader = create_dataloader_v1(\n",
    "    train_data,\n",
    "    batch_size=2,\n",
    "    max_length=GPT_CONFIG_124M[\"context_length\"],\n",
    "    stride=GPT_CONFIG_124M[\"context_length\"],\n",
    "    drop_last=True,\n",
    "    shuffle=True,\n",
    "    num_workers=0\n",
    ")\n",
    "val_loader = create_dataloader_v1(\n",
    "    val_data,\n",
    "    batch_size=2,\n",
    "    max_length=GPT_CONFIG_124M[\"context_length\"],\n",
    "    stride=GPT_CONFIG_124M[\"context_length\"],\n",
    "    drop_last=False,\n",
    "    shuffle=False,\n",
    "    num_workers=0\n",
    ")\n",
    "\n",
    "device = torch.device('cuda' if torch.cuda.is_available() else 'cpu')\n",
    "tokenizer = tiktoken.get_encoding(\"gpt2\")\n",
    "\n",
    "torch.manual_seed(123)\n",
    "model = GPTModel(GPT_CONFIG_124M)\n",
    "model.to(device)\n",
    "optimizer = torch.optim.AdamW(model.parameters(), lr=0.0004, weight_decay=0.1) #el método parameters() devuelve todos los pesos entrenables del modelo\n",
    "num_epochs = 10\n",
    "train_losses, val_losses, tokens_seen = train_model_simple(\n",
    "    model, train_loader, val_loader, optimizer, device,\n",
    "    num_epochs=num_epochs, eval_freq=5, eval_iter=1,\n",
    "    start_context=\"Every effort moves you\", tokenizer=tokenizer\n",
    ")"
   ]
  },
  {
   "cell_type": "markdown",
   "id": "e283e431",
   "metadata": {},
   "source": [
    "Se comienza transfiriendo  el  modelo  de  vuelta  de  la  GPU  a  la  CPU,  ya  que  la  inferencia  con  un  modelo  relativamente  pequeño  no  requiere  una  GPU.  Además,  después  del  entrenamiento,  se pone en  modo  de  evaluación  para  desactivar  componentes  aleatorios  como  la  pérdida  de  datos."
   ]
  },
  {
   "cell_type": "code",
   "execution_count": 4,
   "id": "880475aa",
   "metadata": {},
   "outputs": [
    {
     "data": {
      "text/plain": [
       "GPTModel(\n",
       "  (tok_emb): Embedding(50257, 768)\n",
       "  (pos_emb): Embedding(256, 768)\n",
       "  (drop_emb): Dropout(p=0.1, inplace=False)\n",
       "  (trf_blocks): Sequential(\n",
       "    (0): TransformerBlock(\n",
       "      (att): MultiHeadAttention(\n",
       "        (W_query): Linear(in_features=768, out_features=768, bias=False)\n",
       "        (W_key): Linear(in_features=768, out_features=768, bias=False)\n",
       "        (W_value): Linear(in_features=768, out_features=768, bias=False)\n",
       "        (out_proj): Linear(in_features=768, out_features=768, bias=True)\n",
       "        (dropout): Dropout(p=0.1, inplace=False)\n",
       "      )\n",
       "      (ff): FeedForward(\n",
       "        (layers): Sequential(\n",
       "          (0): Linear(in_features=768, out_features=3072, bias=True)\n",
       "          (1): GELU()\n",
       "          (2): Linear(in_features=3072, out_features=768, bias=True)\n",
       "        )\n",
       "      )\n",
       "      (norm1): LayerNorm()\n",
       "      (norm2): LayerNorm()\n",
       "      (drop_shortcut): Dropout(p=0.1, inplace=False)\n",
       "    )\n",
       "    (1): TransformerBlock(\n",
       "      (att): MultiHeadAttention(\n",
       "        (W_query): Linear(in_features=768, out_features=768, bias=False)\n",
       "        (W_key): Linear(in_features=768, out_features=768, bias=False)\n",
       "        (W_value): Linear(in_features=768, out_features=768, bias=False)\n",
       "        (out_proj): Linear(in_features=768, out_features=768, bias=True)\n",
       "        (dropout): Dropout(p=0.1, inplace=False)\n",
       "      )\n",
       "      (ff): FeedForward(\n",
       "        (layers): Sequential(\n",
       "          (0): Linear(in_features=768, out_features=3072, bias=True)\n",
       "          (1): GELU()\n",
       "          (2): Linear(in_features=3072, out_features=768, bias=True)\n",
       "        )\n",
       "      )\n",
       "      (norm1): LayerNorm()\n",
       "      (norm2): LayerNorm()\n",
       "      (drop_shortcut): Dropout(p=0.1, inplace=False)\n",
       "    )\n",
       "    (2): TransformerBlock(\n",
       "      (att): MultiHeadAttention(\n",
       "        (W_query): Linear(in_features=768, out_features=768, bias=False)\n",
       "        (W_key): Linear(in_features=768, out_features=768, bias=False)\n",
       "        (W_value): Linear(in_features=768, out_features=768, bias=False)\n",
       "        (out_proj): Linear(in_features=768, out_features=768, bias=True)\n",
       "        (dropout): Dropout(p=0.1, inplace=False)\n",
       "      )\n",
       "      (ff): FeedForward(\n",
       "        (layers): Sequential(\n",
       "          (0): Linear(in_features=768, out_features=3072, bias=True)\n",
       "          (1): GELU()\n",
       "          (2): Linear(in_features=3072, out_features=768, bias=True)\n",
       "        )\n",
       "      )\n",
       "      (norm1): LayerNorm()\n",
       "      (norm2): LayerNorm()\n",
       "      (drop_shortcut): Dropout(p=0.1, inplace=False)\n",
       "    )\n",
       "    (3): TransformerBlock(\n",
       "      (att): MultiHeadAttention(\n",
       "        (W_query): Linear(in_features=768, out_features=768, bias=False)\n",
       "        (W_key): Linear(in_features=768, out_features=768, bias=False)\n",
       "        (W_value): Linear(in_features=768, out_features=768, bias=False)\n",
       "        (out_proj): Linear(in_features=768, out_features=768, bias=True)\n",
       "        (dropout): Dropout(p=0.1, inplace=False)\n",
       "      )\n",
       "      (ff): FeedForward(\n",
       "        (layers): Sequential(\n",
       "          (0): Linear(in_features=768, out_features=3072, bias=True)\n",
       "          (1): GELU()\n",
       "          (2): Linear(in_features=3072, out_features=768, bias=True)\n",
       "        )\n",
       "      )\n",
       "      (norm1): LayerNorm()\n",
       "      (norm2): LayerNorm()\n",
       "      (drop_shortcut): Dropout(p=0.1, inplace=False)\n",
       "    )\n",
       "    (4): TransformerBlock(\n",
       "      (att): MultiHeadAttention(\n",
       "        (W_query): Linear(in_features=768, out_features=768, bias=False)\n",
       "        (W_key): Linear(in_features=768, out_features=768, bias=False)\n",
       "        (W_value): Linear(in_features=768, out_features=768, bias=False)\n",
       "        (out_proj): Linear(in_features=768, out_features=768, bias=True)\n",
       "        (dropout): Dropout(p=0.1, inplace=False)\n",
       "      )\n",
       "      (ff): FeedForward(\n",
       "        (layers): Sequential(\n",
       "          (0): Linear(in_features=768, out_features=3072, bias=True)\n",
       "          (1): GELU()\n",
       "          (2): Linear(in_features=3072, out_features=768, bias=True)\n",
       "        )\n",
       "      )\n",
       "      (norm1): LayerNorm()\n",
       "      (norm2): LayerNorm()\n",
       "      (drop_shortcut): Dropout(p=0.1, inplace=False)\n",
       "    )\n",
       "    (5): TransformerBlock(\n",
       "      (att): MultiHeadAttention(\n",
       "        (W_query): Linear(in_features=768, out_features=768, bias=False)\n",
       "        (W_key): Linear(in_features=768, out_features=768, bias=False)\n",
       "        (W_value): Linear(in_features=768, out_features=768, bias=False)\n",
       "        (out_proj): Linear(in_features=768, out_features=768, bias=True)\n",
       "        (dropout): Dropout(p=0.1, inplace=False)\n",
       "      )\n",
       "      (ff): FeedForward(\n",
       "        (layers): Sequential(\n",
       "          (0): Linear(in_features=768, out_features=3072, bias=True)\n",
       "          (1): GELU()\n",
       "          (2): Linear(in_features=3072, out_features=768, bias=True)\n",
       "        )\n",
       "      )\n",
       "      (norm1): LayerNorm()\n",
       "      (norm2): LayerNorm()\n",
       "      (drop_shortcut): Dropout(p=0.1, inplace=False)\n",
       "    )\n",
       "    (6): TransformerBlock(\n",
       "      (att): MultiHeadAttention(\n",
       "        (W_query): Linear(in_features=768, out_features=768, bias=False)\n",
       "        (W_key): Linear(in_features=768, out_features=768, bias=False)\n",
       "        (W_value): Linear(in_features=768, out_features=768, bias=False)\n",
       "        (out_proj): Linear(in_features=768, out_features=768, bias=True)\n",
       "        (dropout): Dropout(p=0.1, inplace=False)\n",
       "      )\n",
       "      (ff): FeedForward(\n",
       "        (layers): Sequential(\n",
       "          (0): Linear(in_features=768, out_features=3072, bias=True)\n",
       "          (1): GELU()\n",
       "          (2): Linear(in_features=3072, out_features=768, bias=True)\n",
       "        )\n",
       "      )\n",
       "      (norm1): LayerNorm()\n",
       "      (norm2): LayerNorm()\n",
       "      (drop_shortcut): Dropout(p=0.1, inplace=False)\n",
       "    )\n",
       "    (7): TransformerBlock(\n",
       "      (att): MultiHeadAttention(\n",
       "        (W_query): Linear(in_features=768, out_features=768, bias=False)\n",
       "        (W_key): Linear(in_features=768, out_features=768, bias=False)\n",
       "        (W_value): Linear(in_features=768, out_features=768, bias=False)\n",
       "        (out_proj): Linear(in_features=768, out_features=768, bias=True)\n",
       "        (dropout): Dropout(p=0.1, inplace=False)\n",
       "      )\n",
       "      (ff): FeedForward(\n",
       "        (layers): Sequential(\n",
       "          (0): Linear(in_features=768, out_features=3072, bias=True)\n",
       "          (1): GELU()\n",
       "          (2): Linear(in_features=3072, out_features=768, bias=True)\n",
       "        )\n",
       "      )\n",
       "      (norm1): LayerNorm()\n",
       "      (norm2): LayerNorm()\n",
       "      (drop_shortcut): Dropout(p=0.1, inplace=False)\n",
       "    )\n",
       "    (8): TransformerBlock(\n",
       "      (att): MultiHeadAttention(\n",
       "        (W_query): Linear(in_features=768, out_features=768, bias=False)\n",
       "        (W_key): Linear(in_features=768, out_features=768, bias=False)\n",
       "        (W_value): Linear(in_features=768, out_features=768, bias=False)\n",
       "        (out_proj): Linear(in_features=768, out_features=768, bias=True)\n",
       "        (dropout): Dropout(p=0.1, inplace=False)\n",
       "      )\n",
       "      (ff): FeedForward(\n",
       "        (layers): Sequential(\n",
       "          (0): Linear(in_features=768, out_features=3072, bias=True)\n",
       "          (1): GELU()\n",
       "          (2): Linear(in_features=3072, out_features=768, bias=True)\n",
       "        )\n",
       "      )\n",
       "      (norm1): LayerNorm()\n",
       "      (norm2): LayerNorm()\n",
       "      (drop_shortcut): Dropout(p=0.1, inplace=False)\n",
       "    )\n",
       "    (9): TransformerBlock(\n",
       "      (att): MultiHeadAttention(\n",
       "        (W_query): Linear(in_features=768, out_features=768, bias=False)\n",
       "        (W_key): Linear(in_features=768, out_features=768, bias=False)\n",
       "        (W_value): Linear(in_features=768, out_features=768, bias=False)\n",
       "        (out_proj): Linear(in_features=768, out_features=768, bias=True)\n",
       "        (dropout): Dropout(p=0.1, inplace=False)\n",
       "      )\n",
       "      (ff): FeedForward(\n",
       "        (layers): Sequential(\n",
       "          (0): Linear(in_features=768, out_features=3072, bias=True)\n",
       "          (1): GELU()\n",
       "          (2): Linear(in_features=3072, out_features=768, bias=True)\n",
       "        )\n",
       "      )\n",
       "      (norm1): LayerNorm()\n",
       "      (norm2): LayerNorm()\n",
       "      (drop_shortcut): Dropout(p=0.1, inplace=False)\n",
       "    )\n",
       "    (10): TransformerBlock(\n",
       "      (att): MultiHeadAttention(\n",
       "        (W_query): Linear(in_features=768, out_features=768, bias=False)\n",
       "        (W_key): Linear(in_features=768, out_features=768, bias=False)\n",
       "        (W_value): Linear(in_features=768, out_features=768, bias=False)\n",
       "        (out_proj): Linear(in_features=768, out_features=768, bias=True)\n",
       "        (dropout): Dropout(p=0.1, inplace=False)\n",
       "      )\n",
       "      (ff): FeedForward(\n",
       "        (layers): Sequential(\n",
       "          (0): Linear(in_features=768, out_features=3072, bias=True)\n",
       "          (1): GELU()\n",
       "          (2): Linear(in_features=3072, out_features=768, bias=True)\n",
       "        )\n",
       "      )\n",
       "      (norm1): LayerNorm()\n",
       "      (norm2): LayerNorm()\n",
       "      (drop_shortcut): Dropout(p=0.1, inplace=False)\n",
       "    )\n",
       "    (11): TransformerBlock(\n",
       "      (att): MultiHeadAttention(\n",
       "        (W_query): Linear(in_features=768, out_features=768, bias=False)\n",
       "        (W_key): Linear(in_features=768, out_features=768, bias=False)\n",
       "        (W_value): Linear(in_features=768, out_features=768, bias=False)\n",
       "        (out_proj): Linear(in_features=768, out_features=768, bias=True)\n",
       "        (dropout): Dropout(p=0.1, inplace=False)\n",
       "      )\n",
       "      (ff): FeedForward(\n",
       "        (layers): Sequential(\n",
       "          (0): Linear(in_features=768, out_features=3072, bias=True)\n",
       "          (1): GELU()\n",
       "          (2): Linear(in_features=3072, out_features=768, bias=True)\n",
       "        )\n",
       "      )\n",
       "      (norm1): LayerNorm()\n",
       "      (norm2): LayerNorm()\n",
       "      (drop_shortcut): Dropout(p=0.1, inplace=False)\n",
       "    )\n",
       "  )\n",
       "  (final_norm): LayerNorm()\n",
       "  (out_head): Linear(in_features=768, out_features=50257, bias=False)\n",
       ")"
      ]
     },
     "execution_count": 4,
     "metadata": {},
     "output_type": "execute_result"
    }
   ],
   "source": [
    "model.to('cpu')\n",
    "model.eval()"
   ]
  },
  {
   "cell_type": "markdown",
   "id": "d229df08",
   "metadata": {},
   "source": [
    "A continuación se conecta la instancia GPTModel (modelo) a la función **generate_text_simple**, que utiliza el LLM para generar un token a la vez."
   ]
  },
  {
   "cell_type": "code",
   "execution_count": 7,
   "id": "d49b4659",
   "metadata": {},
   "outputs": [
    {
     "name": "stdout",
     "output_type": "stream",
     "text": [
      "Output text:\n",
      " Every effort moves you?\"\n",
      "\n",
      "\"Yes--quite insensible to the irony. She wanted him vindicated--and by me!\"\n",
      "\n",
      "He laughed again, and threw back his head to\n"
     ]
    }
   ],
   "source": [
    "from seccion04_ImplementacionGPTGeneracionTexto.generateTextSimple import generate_text_simple\n",
    "from trainModelSimple import text_to_token_ids, token_ids_to_text\n",
    "\n",
    "token_ids = generate_text_simple(\n",
    "    model=model,\n",
    "    idx=text_to_token_ids(\"Every effort moves you\", tokenizer),\n",
    "    max_new_tokens=35,\n",
    "    context_size=GPT_CONFIG_124M[\"context_length\"]\n",
    ")\n",
    "print(\"Output text:\\n\", token_ids_to_text(token_ids, tokenizer))"
   ]
  },
  {
   "cell_type": "markdown",
   "id": "6b56ee40",
   "metadata": {},
   "source": [
    "El  token  generado  se  selecciona  en  cada  paso  de  generación  correspondiente  al  puntaje  de  probabilidad  más  grande  entre  todos  los  tokens  del  vocabulario.\n",
    "Las  siguientes  subsecciones  se introducen  dos  conceptos  para  controlar  la  aleatoriedad  y Diversidad  del  texto  generado:  escalamiento  de  temperatura  y  muestreo  top-k."
   ]
  },
  {
   "cell_type": "markdown",
   "id": "cb672722",
   "metadata": {},
   "source": [
    "### 3.1 Escala de temperatura\n",
    "\n",
    "El  escalamiento  de  temperatura,  una  técnica  que  agrega  un  proceso  de  selección  probabilística  a  la  tarea  de  generación  del  próximo  token.\n",
    "\n",
    "Anteriormente,  dentro  de  la  función  generate_text_simple ,  siempre  se muestreába  el  token  con  la  mayor  probabilidad  como  el  siguiente  token  usando  torch.argmax,  también  conocido  como  decodificación  voraz.  Para generar  texto  con  mayor  variedad,  se puede  reemplazar  argmax  con  una  función  que  muestrea  de  una  distribución  de  probabilidad  (en  este  caso,  las  puntuaciones  de  probabilidad  que  genera  el  LLM  para  cada  entrada  de  vocabulario  en  cada  paso  de  generación  de  tokens).\n",
    "\n",
    "Para  ilustrar  el  muestreo  probabilístico  con  un  ejemplo  concreto,  analiza  brevemente  el proceso  de  generación  del  siguiente  token  que  utiliza  un  vocabulario  muy  pequeño  para  fines  ilustrativo."
   ]
  },
  {
   "cell_type": "code",
   "execution_count": 8,
   "id": "18010de0",
   "metadata": {},
   "outputs": [],
   "source": [
    "vocab = { \n",
    "    \"closer\": 0,\n",
    "    \"every\": 1, \n",
    "    \"effort\": 2, \n",
    "    \"forward\": 3,\n",
    "    \"inches\": 4,\n",
    "    \"moves\": 5, \n",
    "    \"pizza\": 6,\n",
    "    \"toward\": 7,\n",
    "    \"you\": 8,\n",
    "} \n",
    "inverse_vocab = {v: k for k, v in vocab.items()}"
   ]
  },
  {
   "cell_type": "markdown",
   "id": "ec5f4ea7",
   "metadata": {},
   "source": [
    "A continuación, suponer que al LLm se le da el contexto **\"every effort moves you** y genera los siguiente logits de siguiente token:"
   ]
  },
  {
   "cell_type": "code",
   "execution_count": 11,
   "id": "7a8c14db",
   "metadata": {},
   "outputs": [],
   "source": [
    "next_token_logits = torch.tensor(\n",
    "    [4.51, 0.89, -1.90, 6.75, 1.63, -1.62, -1.89, 6.28, 1.79]\n",
    ")"
   ]
  },
  {
   "cell_type": "markdown",
   "id": "e9f256fb",
   "metadata": {},
   "source": [
    "Como ya se ha discutido  dentro  de  generate_text_simple se convierten  los  logits  en  probabilidades  a  través  de  la  función  softmax y se obtienen el ID del token correspondiente al token generado a través de la función argmaxm que luego se puede mapear nuevamente al texto a tarves del vocabulario inverso."
   ]
  },
  {
   "cell_type": "code",
   "execution_count": 12,
   "id": "6d583f9d",
   "metadata": {},
   "outputs": [
    {
     "name": "stdout",
     "output_type": "stream",
     "text": [
      "forward\n"
     ]
    }
   ],
   "source": [
    "probas = torch.softmax(next_token_logits, dim=0)\n",
    "next_token_id = torch.argmax(probas).item()\n",
    "print(inverse_vocab[next_token_id])"
   ]
  },
  {
   "cell_type": "markdown",
   "id": "5ecb4a75",
   "metadata": {},
   "source": [
    "La salida impresa es \"forward\" (adelante) igual que antes. ¿Qué pasó? La función multinomial muestrea el siguiente token de forma proporcional a su puntuación de probabilidad. En otras palabras, \"forward\" sigue siendo el token más probable y será seleccionado por la función multinomial la mayoría de las veces, pero no siempre. Para ilustrar esto, se implementa una función que repita este muestreo 1000 veces:"
   ]
  },
  {
   "cell_type": "code",
   "execution_count": 55,
   "id": "e4099fd3",
   "metadata": {},
   "outputs": [
    {
     "name": "stdout",
     "output_type": "stream",
     "text": [
      "71 x closer\n",
      "2 x every\n",
      "0 x effort\n",
      "544 x forward\n",
      "2 x inches\n",
      "1 x moves\n",
      "0 x pizza\n",
      "376 x toward\n",
      "4 x you\n"
     ]
    }
   ],
   "source": [
    "def print_sampled_tokens(probas):\n",
    "    torch.manual_seed(123)\n",
    "    sample = [torch.multinomial(probas, num_samples=1).item() for i in range(1_000)]\n",
    "    sampled_ids = torch.bincount(torch.tensor(sample))\n",
    "    for i, freq in enumerate(sampled_ids):\n",
    "        print(f\"{freq} x {inverse_vocab[i]}\")\n",
    "print_sampled_tokens(probas)"
   ]
  },
  {
   "cell_type": "markdown",
   "id": "bd460eb2",
   "metadata": {},
   "source": [
    "Como se puede ver en la salida, la palabra **forward** se muestrea la mayor parte del tiempo, pero otros tokens como **closer**, **toward** también se muestran ocasionalmente. Esto significa que si se reemplaza la función argmax con la función multinomial dentro de la función generate_and_print_sample, el LLM a veces generaría textos \"every effort moves you toward\", \"every effortmoves you inches\", y \"every effort moves you closer\" en vez de \"every effortmoves you forward\".\n",
    "\n",
    "Se puede controlar  aún  más  el  proceso  de  distribución  y  selección  a  través  de  un  concepto  llamado  escala  de  temperatura,  donde  la  escala  de  temperatura  es  simplemente  una  descripción  elegante  para  dividir  los  logits  por  un  número  mayor  que  0:\n"
   ]
  },
  {
   "cell_type": "code",
   "execution_count": 58,
   "id": "7a08849e",
   "metadata": {},
   "outputs": [
    {
     "data": {
      "text/plain": [
       "[tensor([6.0907e-02, 1.6313e-03, 1.0019e-04, 5.7212e-01, 3.4190e-03, 1.3257e-04,\n",
       "         1.0120e-04, 3.5758e-01, 4.0122e-03]),\n",
       " tensor([1.8530e-10, 3.5189e-26, 2.6890e-38, 9.9099e-01, 5.7569e-23, 4.4220e-37,\n",
       "         2.9718e-38, 9.0133e-03, 2.8514e-22]),\n",
       " tensor([0.1546, 0.0750, 0.0429, 0.2421, 0.0869, 0.0454, 0.0430, 0.2203, 0.0898])]"
      ]
     },
     "execution_count": 58,
     "metadata": {},
     "output_type": "execute_result"
    }
   ],
   "source": [
    "def softmax_with_temperature(logits, temperature):\n",
    "    scaled_logits = logits / temperature\n",
    "    return torch.softmax(scaled_logits, dim=0)\n",
    "\n",
    "#Las  temperaturas  superiores  a  1  dan  como  resultado  probabilidades  de  tokens  distribuidas  de  manera  más  uniforme.\n",
    "#Y  las  temperaturas  menores  a  1  darán  como  resultado  temperaturas  más  confiables  (más  nítidas  o  con  más  picos).\n",
    "#Distribuciones.  Ilustremos  esto  representando  gráficamente  las  probabilidades  originales  junto  con  las  probabilidades  \n",
    "#escaladas  con  diferentes  valores  de  temperatura:  \n",
    "\n",
    "temperatures  =  [1,  0.1,  5]\n",
    "scaled_probas = [softmax_with_temperature(next_token_logits, T) for T in temperatures]\n",
    "scaled_probas"
   ]
  },
  {
   "cell_type": "code",
   "execution_count": 59,
   "id": "2d5d6fad",
   "metadata": {},
   "outputs": [
    {
     "data": {
      "image/png": "[encoded data removed]",
      "text/plain": [
       "<Figure size 500x300 with 1 Axes>"
      ]
     },
     "metadata": {},
     "output_type": "display_data"
    }
   ],
   "source": [
    "import matplotlib.pyplot as plt\n",
    "x = torch.arange(len(vocab))\n",
    "bar_width = 0.15\n",
    "fig, ax = plt.subplots(figsize=(5, 3))\n",
    "for i, T in enumerate(temperatures):\n",
    "    rects = ax.bar(x + i * bar_width, scaled_probas[i], \n",
    "                    bar_width, label=f'Temperature = {T}')\n",
    "ax.set_ylabel('Probability')\n",
    "ax.set_xticks(x)\n",
    "ax.set_xticklabels(vocab.keys(), rotation=90)\n",
    "ax.legend()\n",
    "plt.tight_layout()\n",
    "plt.show()\n"
   ]
  },
  {
   "cell_type": "markdown",
   "id": "fe6849b5",
   "metadata": {},
   "source": [
    "Una  temperatura  de  1  divide  los  logits  entre  1  antes  de  pasarlos  a  la  función  softmax  para  calcular  las  puntuaciones  de  probabilidad.  En  otras  palabras,  usar  una  temperatura  de  1  equivale  a  no  usar  escala  de  temperatura.  En  este  caso,  los  tokens  se  seleccionan  con  una  probabilidad  igual  a  las  puntuaciones  de  probabilidad  softmax  originales  mediante  la  función  de  muestreo  multinomial  de  PyTorch.\n",
    "\n",
    "Además,  como  se  observa  en  la  Figura,  aplicar  temperaturas  muy  pequeñas,  como  0,1,  dará  como  resultado  distribuciones  más  nítidas,  de  modo  que  el  comportamiento  de  la  función  multinomial  selecciona  el  token  más  probable  (en  este  caso:  \"forward\")  casi  el  100  %  de  las  veces,  acercándose  al  comportamiento  de  la  función  argmax.  Por  el  contrario,  una  temperatura  de  5  da  como  resultado  una  distribución  más  uniforme,  donde  se  seleccionan  otros  tokens  con  mayor  frecuencia.  Esto  puede  añadir  más  variedad  a  los  textos  generados,  pero  también  suele  generar  texto  sin  sentido.  Por  ejemplo,  usar  una  temperatura  de  5  da  como  resultado  textos  como  \"every effort moves you pizza\"  aproximadamente  el  4  %  deel  tiempo."
   ]
  },
  {
   "cell_type": "markdown",
   "id": "d8c1ceb8",
   "metadata": {},
   "source": [
    "### 3.2 Muestreo de lo mejores k (top-k)\n",
    "\n",
    "En la sección anterior, se implementó un enfoque de muestreo probabilístico combinado con el escalamiento de temperatura para aumentar la diversidad de los resultados generados. Se observó que valores de temperatura más altos aplanan la distribución de probabilidad, resultando en una selección de tokens más uniforme.\n",
    "\n",
    "Este método permite al modelo explorar caminos menos probables, pero potencialmente más interesantes y creativos, ya que reduce la tendencia a seleccionar repetidamente el token más probable.\n",
    "\n",
    "Sin embargo, una desventaja notable de este enfoque es que, al aumentar la aleatoriedad, a veces genera resultados gramaticalmente incorrectos o completamente sin sentido.\n",
    "\n",
    "Para solucionar el problema anterior y mejorar la calidad de la generación, en esta sección se introduce el concepto de muestreo top-k.\n",
    "\n",
    "El objetivo de esta técnica es restringir el proceso de muestreo únicamente a los k tokens más probables. Todos los demás tokens (los menos probables) son excluidos del proceso de selección mediante el enmascaramiento de sus puntuaciones de probabilidad.\n",
    "\n",
    "Al combinar el muestreo top-k con el escalamiento de temperatura, es posible mantener un buen nivel de diversidad, pero limitando las opciones a un conjunto de candidatos que ya son plausibles, mejorando así la coherencia y la calidad general del texto generado.\n",
    "\n",
    "![Texto alternativo](./imgs/5.13.png)\n",
    "\n",
    "El  enfoque  descrito  en  la  Figura  reemplaza  todos  los  logits  no  seleccionados  con  valor  infinito  negativo  ( inf),  de  modo  que  al  calcular  los  valores  softmax,  los  puntajes  de  probabilidad  de  los  tokens  que  no  son  topk  son  0  y  las  probabilidades  restantes  suman  1. "
   ]
  },
  {
   "cell_type": "code",
   "execution_count": 60,
   "id": "eb56dd5d",
   "metadata": {},
   "outputs": [
    {
     "name": "stdout",
     "output_type": "stream",
     "text": [
      "Top logits: tensor([6.7500, 6.2800, 4.5100])\n",
      "Top positions: tensor([3, 7, 0])\n"
     ]
    }
   ],
   "source": [
    "top_k = 3\n",
    "top_logits, top_pos = torch.topk(next_token_logits, k=top_k)\n",
    "print(\"Top logits:\", top_logits)\n",
    "print(\"Top positions:\", top_pos)"
   ]
  },
  {
   "cell_type": "markdown",
   "id": "08ac60cd",
   "metadata": {},
   "source": [
    "Posteriormente,  se aplica la  función  where  de  PyTorch  para  establecer  los  valores  logit  de  los  tokens  que  están  por  debajo  del  valor  logit  más  bajo  dentro  de  nuestra  selección  top3  en  infinito  negativo  (-inf)."
   ]
  },
  {
   "cell_type": "code",
   "execution_count": null,
   "id": "930474c3",
   "metadata": {},
   "outputs": [
    {
     "name": "stdout",
     "output_type": "stream",
     "text": [
      "tensor([4.5100,   -inf,   -inf, 6.7500,   -inf,   -inf,   -inf, 6.2800,   -inf])\n"
     ]
    }
   ],
   "source": [
    "new_logits = torch.where(condition=next_token_logits < top_logits[-1], #Identifica  logits  menores  al  mínimo  en  el  top  3\n",
    "                        input=torch.tensor(float('-inf')),  #Asigna  inf  a  estos  logits  inferiores\n",
    "                        other=next_token_logits)    #Conserva  los  logits  originales  para  todos  los  demás  tokens\n",
    "print(new_logits)"
   ]
  },
  {
   "cell_type": "markdown",
   "id": "6bf88645",
   "metadata": {},
   "source": [
    "Por  último,  se aplica  la  función  softmax  para  convertirlas  en  probabilidades  del  próximo  token."
   ]
  },
  {
   "cell_type": "code",
   "execution_count": 62,
   "id": "c6c64317",
   "metadata": {},
   "outputs": [
    {
     "name": "stdout",
     "output_type": "stream",
     "text": [
      "tensor([0.0615, 0.0000, 0.0000, 0.5775, 0.0000, 0.0000, 0.0000, 0.3610, 0.0000])\n"
     ]
    }
   ],
   "source": [
    "topk_probas = torch.softmax(new_logits, dim=0)\n",
    "print(topk_probas)"
   ]
  },
  {
   "cell_type": "markdown",
   "id": "37ae82e9",
   "metadata": {},
   "source": [
    "El  resultado  de  este  enfoque  de  los  3  mejores  son  3  puntuaciones  de  probabilidad  distintas  de  cero"
   ]
  }
 ],
 "metadata": {
  "kernelspec": {
   "display_name": "llm_env",
   "language": "python",
   "name": "python3"
  },
  "language_info": {
   "codemirror_mode": {
    "name": "ipython",
    "version": 3
   },
   "file_extension": ".py",
   "mimetype": "text/x-python",
   "name": "python",
   "nbconvert_exporter": "python",
   "pygments_lexer": "ipython3",
   "version": "3.10.18"
  }
 },
 "nbformat": 4,
 "nbformat_minor": 5
}
