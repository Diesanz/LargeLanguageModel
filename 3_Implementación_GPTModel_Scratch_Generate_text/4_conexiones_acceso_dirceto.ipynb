{
 "cells": [
  {
   "cell_type": "code",
   "execution_count": null,
   "id": "afe22d4e",
   "metadata": {},
   "outputs": [],
   "source": [
    "# COnexiones de acceso directo"
   ]
  }
 ],
 "metadata": {
  "language_info": {
   "name": "python"
  }
 },
 "nbformat": 4,
 "nbformat_minor": 5
}
